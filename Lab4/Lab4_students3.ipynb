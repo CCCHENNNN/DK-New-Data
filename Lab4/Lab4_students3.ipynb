{
 "cells": [
  {
   "cell_type": "markdown",
   "metadata": {},
   "source": [
    "# Data import\n",
    "## Question 0 - Get common wikidata occupations\n",
    "\n",
    "> Write a sparql query that retrieves the top 100 occupations on wikidata (wikidata property P106).\n",
    "\n",
    "You may use the interface https://query.wikidata.org/ to try different queries. Here are some example sparql queries: https://www.wikidata.org/wiki/Wikidata:SPARQL_query_service/queries/examples"
   ]
  },
  {
   "cell_type": "code",
   "execution_count": 1,
   "metadata": {},
   "outputs": [],
   "source": [
    "query = \"\"\"\n",
    "SELECT ?o WHERE { ?p wdt:P106 ?o. } GROUP BY ?o ORDER BY DESC(COUNT(?p)) LIMIT 100\n",
    "\"\"\""
   ]
  },
  {
   "cell_type": "markdown",
   "metadata": {},
   "source": [
    "The following assertion should pass if your answer is correct."
   ]
  },
  {
   "cell_type": "code",
   "execution_count": 3,
   "metadata": {},
   "outputs": [
    {
     "name": "stdout",
     "output_type": "stream",
     "text": [
      "Q3387717\n",
      "Q212238\n"
     ]
    },
    {
     "ename": "AssertionError",
     "evalue": "",
     "output_type": "error",
     "traceback": [
      "\u001b[0;31m---------------------------------------------------------------------------\u001b[0m",
      "\u001b[0;31mAssertionError\u001b[0m                            Traceback (most recent call last)",
      "\u001b[0;32m<ipython-input-3-38cb506357c8>\u001b[0m in \u001b[0;36m<module>\u001b[0;34m()\u001b[0m\n\u001b[1;32m     18\u001b[0m     \u001b[0;32mif\u001b[0m \u001b[0mi\u001b[0m \u001b[0;32mnot\u001b[0m \u001b[0;32min\u001b[0m  \u001b[0moccupations\u001b[0m\u001b[0;34m:\u001b[0m\u001b[0;34m\u001b[0m\u001b[0m\n\u001b[1;32m     19\u001b[0m         \u001b[0mprint\u001b[0m\u001b[0;34m(\u001b[0m\u001b[0mi\u001b[0m\u001b[0;34m)\u001b[0m\u001b[0;34m\u001b[0m\u001b[0m\n\u001b[0;32m---> 20\u001b[0;31m \u001b[0;32massert\u001b[0m\u001b[0;34m(\u001b[0m\u001b[0mfrozenset\u001b[0m\u001b[0;34m(\u001b[0m\u001b[0moccupations\u001b[0m\u001b[0;34m)\u001b[0m \u001b[0;34m==\u001b[0m \u001b[0mfrozenset\u001b[0m\u001b[0;34m(\u001b[0m\u001b[0mmyOccupations\u001b[0m\u001b[0;34m)\u001b[0m\u001b[0;34m)\u001b[0m\u001b[0;34m\u001b[0m\u001b[0m\n\u001b[0m",
      "\u001b[0;31mAssertionError\u001b[0m: "
     ]
    }
   ],
   "source": [
    "import requests\n",
    "\n",
    "occupations = ['Q82955', 'Q937857', 'Q36180', 'Q33999', 'Q1650915', 'Q1028181', 'Q1930187', 'Q177220', 'Q1622272', 'Q49757', 'Q36834', 'Q40348', 'Q47064', 'Q639669', 'Q10800557', 'Q201788', 'Q2526255', 'Q43845', 'Q28389', 'Q42973', 'Q10871364', 'Q39631', 'Q193391', 'Q482980', 'Q483501', 'Q11513337', 'Q3665646', 'Q12299841', 'Q19204627', 'Q16533', 'Q81096', 'Q11774891', 'Q188094', 'Q1281618', 'Q333634', 'Q189290', 'Q250867', 'Q33231', 'Q2259451', 'Q42603', 'Q628099', 'Q37226', 'Q2309784', 'Q901', 'Q2066131', 'Q6625963', 'Q10798782', 'Q2374149', 'Q170790', 'Q4610556', 'Q185351', 'Q486748', 'Q3055126', 'Q753110', 'Q4964182', 'Q169470', 'Q158852', 'Q1234713', 'Q14089670', 'Q10873124', 'Q3282637', 'Q593644', 'Q947873', 'Q13414980', 'Q131524', 'Q11338576', 'Q15117302', 'Q488205', 'Q14467526', 'Q183945', 'Q10843402', 'Q13382576', 'Q13141064', 'Q214917', 'Q855091', 'Q644687', 'Q19595175', 'Q121594', 'Q2865819', 'Q16010345', 'Q1231865', 'Q2405480', 'Q350979', 'Q3400985', 'Q13365117', 'Q10833314', 'Q3621491', 'Q15981151', 'Q212980', 'Q16145150', 'Q1792450', 'Q15296811', 'Q15627169', 'Q2306091', 'Q4263842', 'Q806798', 'Q5716684', 'Q2516866', 'Q3387717', 'Q131512']\n",
    "\n",
    "def evalSparql(query):\n",
    "    return requests.post('https://query.wikidata.org/sparql', data=query, headers={\n",
    "        'content-type': 'application/sparql-query',\n",
    "        'accept': 'application/json',\n",
    "        'user-agent': 'User:Tpt'\n",
    "    }).json()['results']['bindings']\n",
    "\n",
    "myOccupations = [val['o']['value'].replace('http://www.wikidata.org/entity/', '') \n",
    "                 for val in evalSparql(query)]\n",
    "for i in occupations:\n",
    "    if i not in  myOccupations:\n",
    "        print(i)\n",
    "for i in myOccupations:\n",
    "    if i not in  occupations:\n",
    "        print(i)\n",
    "assert(frozenset(occupations) == frozenset(myOccupations))"
   ]
  },
  {
   "cell_type": "markdown",
   "metadata": {},
   "source": [
    "## Occupations labels\n",
    "\n",
    "We load the labels of the occupations from Wikidata"
   ]
  },
  {
   "cell_type": "code",
   "execution_count": 105,
   "metadata": {},
   "outputs": [
    {
     "name": "stdout",
     "output_type": "stream",
     "text": [
      "{'Q82955': 'politician', 'Q121594': 'professor', 'Q177220': 'singer', 'Q169470': 'physicist', 'Q170790': 'mathematician', 'Q81096': 'engineer', 'Q201788': 'historian', 'Q188094': 'economist', 'Q212980': 'psychologist', 'Q214917': 'playwright', 'Q131524': 'entrepreneur', 'Q183945': 'record producer', 'Q193391': 'diplomat', 'Q189290': 'military officer', 'Q185351': 'jurist', 'Q350979': 'zoologist', 'Q483501': 'artist', 'Q482980': 'author', 'Q333634': 'translator', 'Q158852': 'conductor', 'Q486748': 'pianist', 'Q488205': 'singer-songwriter', 'Q250867': 'Catholic priest', 'Q593644': 'chemist', 'Q639669': 'musician', 'Q644687': 'illustrator', 'Q628099': 'association football manager', 'Q855091': 'guitarist', 'Q937857': 'association football player', 'Q947873': 'television presenter', 'Q806798': 'banker', 'Q1028181': 'painter', 'Q753110': 'songwriter', 'Q1234713': 'theologian', 'Q1281618': 'sculptor', 'Q1622272': 'university teacher', 'Q1792450': 'art historian', 'Q1650915': 'researcher', 'Q1930187': 'journalist', 'Q2306091': 'sociologist', 'Q2374149': 'botanist', 'Q2526255': 'film director', 'Q2516866': 'publisher', 'Q2066131': 'athlete', 'Q2405480': 'voice actor', 'Q1231865': 'pedagogue', 'Q2865819': 'opera singer', 'Q2259451': 'stage actor', 'Q3282637': 'film producer', 'Q3387717': 'theatre director', 'Q3055126': 'entomologist', 'Q3400985': 'academic', 'Q3665646': 'basketball player', 'Q3621491': 'archaeologist', 'Q4610556': 'model', 'Q4263842': 'literary critic', 'Q4964182': 'philosopher', 'Q5716684': 'dancer', 'Q6625963': 'novelist', 'Q10843402': 'swimmer', 'Q10833314': 'tennis player', 'Q10871364': 'baseball player', 'Q10798782': 'television actor', 'Q10873124': 'chess player', 'Q10800557': 'film actor', 'Q11338576': 'boxer', 'Q11513337': 'athletics competitor', 'Q2309784': 'sport cyclist', 'Q11774891': 'ice hockey player', 'Q12299841': 'cricketer', 'Q13141064': 'badminton player', 'Q13365117': 'handball player', 'Q13414980': 'Australian rules footballer', 'Q14089670': 'rugby union player', 'Q14467526': 'linguist', 'Q15117302': 'volleyball player', 'Q15627169': 'trade unionist', 'Q15981151': 'jazz musician', 'Q16010345': 'performer', 'Q131512': 'agriculturer', 'Q13382576': 'rower', 'Q19204627': 'American football player', 'Q15296811': 'drawer', 'Q19595175': 'amateur wrestler', 'Q16145150': 'music pedagogue', 'Q901': 'scientist', 'Q33999': 'actor', 'Q33231': 'photographer', 'Q36834': 'composer', 'Q16533': 'judge', 'Q40348': 'lawyer', 'Q36180': 'writer', 'Q42973': 'architect', 'Q43845': 'businessperson', 'Q39631': 'physician', 'Q28389': 'screenwriter', 'Q42603': 'priest', 'Q49757': 'poet', 'Q37226': 'teacher', 'Q47064': 'military personnel'}\n"
     ]
    }
   ],
   "source": [
    "occupations_label = {}\n",
    "\n",
    "query = \"\"\"\n",
    "SELECT DISTINCT ?o ?oLabel \n",
    "WHERE { \n",
    "    VALUES ?o { %s } \n",
    "    SERVICE wikibase:label { bd:serviceParam wikibase:language \"en\". }\n",
    "}\"\"\"% ' '.join('wd:' + o for o in occupations)\n",
    "# print(query)\n",
    "for result in evalSparql(query):\n",
    "    occupations_label[result['o']['value'].replace('http://www.wikidata.org/entity/', '')] = result['oLabel']['value']\n",
    "\n",
    "print(occupations_label)\n",
    "# evalSparql(query)"
   ]
  },
  {
   "cell_type": "markdown",
   "metadata": {},
   "source": [
    "We load *all* the labels of the occupations from Wikipedia"
   ]
  },
  {
   "cell_type": "code",
   "execution_count": 106,
   "metadata": {},
   "outputs": [
    {
     "name": "stdout",
     "output_type": "stream",
     "text": [
      "{'Q82955': ['politician', 'political leader', 'polit.', 'political figure'], 'Q121594': ['professor', 'Prof.'], 'Q177220': ['singer', 'vocalist'], 'Q169470': ['physicist'], 'Q170790': ['mathematician'], 'Q81096': ['engineer'], 'Q201788': ['historian', 'historiographer', 'historians'], 'Q188094': ['economist'], 'Q212980': ['psychologist'], 'Q214917': ['playwright', 'scriptwriter', 'dramatist', 'Playwright, dramatist', 'playwrite'], 'Q131524': ['entrepreneur'], 'Q183945': ['record producer', 'music producer'], 'Q193391': ['diplomat'], 'Q189290': ['military officer', 'officer', 'army officer'], 'Q185351': ['jurist'], 'Q350979': ['zoologist', 'zooligist'], 'Q483501': ['artist'], 'Q482980': ['author'], 'Q333634': ['translator'], 'Q158852': ['conductor', 'Conducting'], 'Q486748': ['pianist'], 'Q488205': ['singer-songwriter', 'singer songwriter', 'singer/songwriter', 'singersongwriter'], 'Q250867': ['Catholic priest', 'Roman Catholic priest', 'Catholic presbyter', 'Roman Catholic presbyter'], 'Q593644': ['chemist', 'chemists'], 'Q639669': ['musician'], 'Q644687': ['illustrator'], 'Q628099': ['association football manager', 'football manager', 'soccer coach', 'association football coach', 'football coach', 'soccer manager'], 'Q855091': ['guitarist', 'guitar player'], 'Q937857': ['association football player', 'football player', 'footballer', 'association footballer', 'soccer player'], 'Q947873': ['television presenter', 'host', 'hostess'], 'Q806798': ['banker', 'Private Banker', 'private sector banker'], 'Q1028181': ['painter'], 'Q753110': ['songwriter', 'song writer'], 'Q1234713': ['theologian', 'religious scholar'], 'Q1281618': ['sculptor'], 'Q1622272': ['university teacher', 'university teachers', 'lecturer', 'college lecturer', 'college professor'], 'Q1792450': ['art historian'], 'Q1650915': ['researcher'], 'Q1930187': ['journalist', 'journo'], 'Q2306091': ['sociologist'], 'Q2374149': ['botanist', 'botany', 'plant scientist'], 'Q2526255': ['film director', 'director', 'movie director'], 'Q2516866': ['publisher'], 'Q2066131': ['athlete', 'sportswoman', 'sportsperson', 'sportsman'], 'Q2405480': ['voice actor', 'voice actress', 'voice artist'], 'Q1231865': ['pedagogue', 'educationalist'], 'Q2865819': ['opera singer'], 'Q2259451': ['stage actor', 'stage actress', 'theater actor', 'theater actress', 'theatre actor', 'theatre actress'], 'Q3282637': ['film producer', 'producer', 'movie producer'], 'Q3387717': ['theatre director', 'stage director', 'theater director'], 'Q3055126': ['entomologist'], 'Q3400985': ['academic', 'college graduates', 'university graduates'], 'Q3665646': ['basketball player', 'professional basketball player', 'basketballer'], 'Q3621491': ['archaeologist', 'archeologist'], 'Q4610556': ['model', 'fashion model', 'mannequin'], 'Q4263842': ['literary critic', 'book critic', 'literary critique'], 'Q4964182': ['philosopher'], 'Q5716684': ['dancer'], 'Q6625963': ['novelist'], 'Q10843402': ['swimmer'], 'Q10833314': ['tennis player'], 'Q10871364': ['baseball player'], 'Q10798782': ['television actor', 'actress', 'actor', 'TV actor', 'television actress', 'TV actress'], 'Q10873124': ['chess player'], 'Q10800557': ['film actor', 'film actress', 'movie actor', 'movie actress'], 'Q11338576': ['boxer', 'pugilist'], 'Q11513337': ['athletics competitor', 'track and field athlete', 'athlete (restricted sense)'], 'Q2309784': ['sport cyclist', 'racing cyclist', 'sport bicyclist', 'sport biker'], 'Q11774891': ['ice hockey player', 'hockey player'], 'Q12299841': ['cricketer', 'cricket player'], 'Q13141064': ['badminton player'], 'Q13365117': ['handball player', 'handballer'], 'Q13414980': ['Australian rules footballer', 'Australian footballer', 'Australian rules football player', 'Australian-rules football player'], 'Q14089670': ['rugby union player'], 'Q14467526': ['linguist', 'linguistic scholar'], 'Q15117302': ['volleyball player', 'volleyballer'], 'Q15627169': ['trade unionist', 'labor unionist', 'labour unionist'], 'Q15981151': ['jazz musician'], 'Q16010345': ['performer', 'performing artist', 'scenic artist'], 'Q131512': ['agriculturer', 'farmer', 'agriculturist', 'cultivator', 'grower', 'raiser'], 'Q13382576': ['rower', 'oarsman', 'oarswoman'], 'Q19204627': ['American football player', 'football player'], 'Q15296811': ['drawer', 'illustrator', 'draftsperson', 'draughtsperson', 'draftsman', 'drafter', 'draftswoman', 'draughtsman'], 'Q19595175': ['amateur wrestler', 'wrestler'], 'Q16145150': ['music pedagogue', 'music teacher'], 'Q901': ['scientist', 'natural philosopher'], 'Q33999': ['actor', 'actresses', 'actress', 'actors'], 'Q33231': ['photographer'], 'Q36834': ['composer'], 'Q16533': ['judge', 'magistrate', 'justice', 'judges', 'justices'], 'Q40348': ['lawyer', 'Jurisprudente', 'attorney'], 'Q36180': ['writer', 'author', 'writers', 'authors'], 'Q42973': ['architect'], 'Q43845': ['businessperson', 'business man', 'business person', 'business woman', 'businessman', 'businesswoman', 'dealer'], 'Q39631': ['physician', 'medical doctor', 'doctor', 'physicians'], 'Q28389': ['screenwriter', 'scenarist', 'scriptwriter', 'writer', 'film writer', 'screen writer', 'tv writer', 'script writer'], 'Q42603': ['priest', 'priestess', 'reverend'], 'Q49757': ['poet', 'bard', 'poetess'], 'Q37226': ['teacher', 'professor', 'educator', 'schoolmaster', 'schoolmistress', 'school teacher'], 'Q47064': ['military personnel']}\n"
     ]
    }
   ],
   "source": [
    "occupations_labels = {k: [v] for k, v in occupations_label.items()}\n",
    "\n",
    "query = \"\"\"\n",
    "SELECT ?o ?altLabel \n",
    "WHERE {\n",
    "  VALUES ?o { %s }\n",
    "  ?o skos:altLabel ?altLabel . FILTER (lang(?altLabel) = \"en\")\n",
    "}\"\"\" % ' '.join('wd:' + o for o in occupations) \n",
    "# print(query)\n",
    "for result in evalSparql(query):\n",
    "    occupations_labels[result['o']['value'].replace('http://www.wikidata.org/entity/', '')].append(result['altLabel']['value'])\n",
    "\n",
    "print(occupations_labels)\n",
    "# evalSparql(query)"
   ]
  },
  {
   "cell_type": "markdown",
   "metadata": {},
   "source": [
    "## Wikipedia articles\n",
    "\n",
    "Here we load the training and the testing sets. To save memory space we use a generator that will read the file each time we iterate over the training or the testing examples."
   ]
  },
  {
   "cell_type": "code",
   "execution_count": 107,
   "metadata": {},
   "outputs": [],
   "source": [
    "import gzip\n",
    "import json\n",
    "\n",
    "def loadJson(filename):\n",
    "    with gzip.open(filename, 'rt') as fp:\n",
    "        for line in fp:\n",
    "            yield json.loads(line)\n",
    "\n",
    "class MakeIter(object):\n",
    "    def __init__(self, generator_func, **kwargs):\n",
    "        self.generator_func = generator_func\n",
    "        self.kwargs = kwargs\n",
    "    def __iter__(self):\n",
    "        return self.generator_func(**self.kwargs)\n",
    "\n",
    "training_set = MakeIter(loadJson, filename='wiki-train.json.gz')\n",
    "testing_set = MakeIter(loadJson, filename='wiki-test.json.gz')"
   ]
  },
  {
   "cell_type": "markdown",
   "metadata": {},
   "source": [
    "# Extract occupations from summaries"
   ]
  },
  {
   "cell_type": "markdown",
   "metadata": {},
   "source": [
    "## Task 1 - Dictionnary extraction\n",
    "\n",
    "> Using ```occupations_labels``` dictionnary, identify all occupations for each articles. Complete the function below to evaluate the accuracy of such approach. It will serve as a baseline."
   ]
  },
  {
   "cell_type": "code",
   "execution_count": 108,
   "metadata": {},
   "outputs": [
    {
     "data": {
      "text/plain": [
       "0.3682742364200718"
      ]
     },
     "execution_count": 108,
     "metadata": {},
     "output_type": "execute_result"
    }
   ],
   "source": [
    "def predict_dictionnary(example, occupations_labels):\n",
    "    ## example['summary'] contains the summary of the article\n",
    "    ## Code here\n",
    "    summary = example['summary'].lower()\n",
    "#     print(summary)\n",
    "    hits = set()\n",
    "#     print(words)\n",
    "    for (k,v) in occupations_label.items():\n",
    "        if summary.find(v) != -1:\n",
    "            hits.add(k)\n",
    "#             print(v)\n",
    "#     print(\"-------------\")\n",
    "#     print(hits)\n",
    "    \n",
    "    return hits\n",
    "    \n",
    "def evaluate_dictionnary(training_set, occupations_labels):\n",
    "    nexample = 0\n",
    "    accuracy = 0.\n",
    "    prediction = None\n",
    "    for example in training_set:\n",
    "#         print(example)\n",
    "        prediction = predict_dictionnary(example, occupations_labels)\n",
    "        p = frozenset(prediction)\n",
    "        g = frozenset(example['occupations'])\n",
    "        accuracy += 1.*len(p & g) / len(p | g)\n",
    "        nexample += 1\n",
    "    return accuracy / nexample\n",
    "\n",
    "evaluate_dictionnary(training_set, occupations_labels)"
   ]
  },
  {
   "cell_type": "markdown",
   "metadata": {},
   "source": [
    "## Task 2 - Simple neural network"
   ]
  },
  {
   "cell_type": "markdown",
   "metadata": {},
   "source": [
    "We load the articles \"summary\" and we take the average of the word vectors.\n",
    "This is done with spacy loaded with the fast text vectors.\n",
    "To do the installation/loading [takes 8-10 minutes, dl 1.2Go]\n",
    "```\n",
    "pip3 install spacy\n",
    "wget https://s3-us-west-1.amazonaws.com/fasttext-vectors/cc.en.300.vec.gz\n",
    "python3 -m spacy init-model en /tmp/en_vectors_wiki_lg --vectors-loc cc.en.300.vec.gz\n",
    "rm cc.en.300.vec.gz\n",
    "```"
   ]
  },
  {
   "cell_type": "code",
   "execution_count": 109,
   "metadata": {},
   "outputs": [],
   "source": [
    "import spacy\n",
    "nlp = spacy.load('/tmp/en_vectors_wiki_lg')\n",
    "\n",
    "def vectorize(dataset, nlp):\n",
    "    result = {}\n",
    "    for example in dataset:\n",
    "        doc = nlp(example['summary'], disable=['parser', 'tagger'])\n",
    "        result[example['title']] = {}\n",
    "        result[example['title']]['vector'] = doc.vector\n",
    "        if 'occupations' in example:\n",
    "            result[example['title']]['occupations'] = example['occupations']\n",
    "    return result\n",
    "\n",
    "vectorized_training = vectorize(training_set, nlp)\n",
    "vectorized_testing = vectorize(testing_set, nlp)\n",
    "nlp = None"
   ]
  },
  {
   "cell_type": "code",
   "execution_count": 110,
   "metadata": {},
   "outputs": [
    {
     "name": "stdout",
     "output_type": "stream",
     "text": [
      "[-1.45162819e-02 -2.45802402e-02 -4.59302496e-03 -4.09372151e-02\n",
      " -4.47662771e-02 -4.18604538e-03 -3.15232435e-03 -1.44802360e-02\n",
      " -1.68499984e-02 -3.69651243e-03 -1.16255814e-02  1.43651171e-02\n",
      "  2.02674349e-03 -5.88953542e-03 -2.17011590e-02  1.02302311e-02\n",
      " -2.49313917e-02 -5.65232616e-03 -2.25581434e-02  8.29069968e-03\n",
      " -1.44069805e-03  2.25197673e-02 -6.81395701e-04 -1.37232570e-02\n",
      " -1.26674427e-02 -3.35569866e-02  1.10627888e-02 -2.37208814e-03\n",
      " -2.30000000e-02  7.58616179e-02 -5.03487710e-04 -2.51116175e-02\n",
      "  9.26511642e-03 -2.52558179e-02 -1.51058156e-02 -9.51627828e-03\n",
      "  1.17523270e-02  1.22441910e-03  1.08139520e-03  3.39302444e-03\n",
      "  2.20116391e-03  1.46860480e-02 -1.43686021e-02  5.76395402e-03\n",
      "  1.74162779e-02 -4.76220921e-02 -1.72569733e-02 -1.49988411e-02\n",
      " -1.77732538e-02  1.58907007e-02 -7.23255938e-03  2.43825577e-02\n",
      " -2.73104683e-02 -3.67430188e-02 -1.48802334e-02 -1.34825567e-02\n",
      " -3.14348824e-02  1.95930228e-02 -6.68605033e-04 -9.24302172e-03\n",
      "  1.56976283e-04 -1.65674444e-02 -1.30372085e-02  6.16298130e-05\n",
      " -3.63139645e-03  2.74534873e-03 -1.62697677e-02 -4.70697694e-03\n",
      "  5.48139494e-03  4.39302297e-03  4.65523303e-02  2.29872130e-02\n",
      "  2.72058025e-02 -5.52790612e-03  2.19720937e-02 -4.41581383e-02\n",
      "  1.33255811e-03  1.20244222e-02  3.49267460e-02  3.76593024e-02\n",
      "  8.65232572e-03 -6.52325572e-03 -1.90407019e-02  1.03569757e-02\n",
      "  1.09301973e-03 -6.28488278e-03  3.98965068e-02 -3.81744131e-02\n",
      " -1.35965087e-02  1.74023230e-02 -1.48686031e-02  5.78604685e-03\n",
      " -8.59186146e-03  4.74418374e-03  1.54720917e-02 -6.42325589e-03\n",
      " -1.58430226e-02 -2.98779178e-02 -1.54255824e-02  3.28209326e-02\n",
      "  2.43825577e-02  1.32907031e-03  1.80883706e-02 -2.72825565e-02\n",
      "  9.28488653e-03 -7.39418622e-03 -7.98023026e-03  1.84244160e-02\n",
      " -9.45350039e-04 -1.16825579e-02  1.15813862e-03 -2.10464321e-04\n",
      " -3.00813979e-03  4.75407019e-02 -8.32790602e-03  4.11511678e-03\n",
      " -1.25604663e-02  8.92209262e-03  7.64534995e-03 -2.65965052e-02\n",
      "  6.58837147e-03 -1.12011610e-02 -9.68022924e-03  1.60023291e-02\n",
      "  1.61629519e-04  3.20906974e-02 -1.59848798e-02  1.14162825e-02\n",
      " -2.40430199e-02  5.39906919e-02 -4.80814092e-03  3.02209193e-03\n",
      "  5.89418598e-03 -3.94418649e-03 -2.68058274e-02 -8.98256153e-03\n",
      " -2.94616278e-02  3.90697829e-03  4.68255766e-03  3.96162830e-03\n",
      " -2.68069748e-02 -2.68395394e-02 -9.76740339e-05  5.67557989e-03\n",
      "  4.43197712e-02 -1.38953477e-02 -3.69888335e-01  1.04639539e-02\n",
      "  1.55372089e-02 -1.35093015e-02 -8.09988379e-02  2.67802346e-02\n",
      "  2.21941881e-02 -7.86627829e-03 -1.00313956e-02  1.52511625e-02\n",
      "  1.45744160e-01  4.61395411e-03  7.26162829e-03  3.14453505e-02\n",
      " -7.95465056e-03 -1.25395320e-02  6.95348764e-03 -2.48023286e-03\n",
      "  6.17325725e-03  1.26546472e-02  1.03558144e-02 -1.21616265e-02\n",
      " -1.27907039e-03 -1.99348871e-02 -9.01860371e-03  4.25581448e-03\n",
      "  7.45790750e-02  1.02186035e-02 -9.93953645e-03  1.72848776e-02\n",
      " -1.03779081e-02  1.46616297e-02 -3.75465187e-03 -2.26953458e-02\n",
      "  5.36046689e-04  6.64511696e-02 -2.53790785e-02  5.80627881e-02\n",
      " -1.42732579e-02  9.22453254e-02 -1.12825576e-02 -2.51837187e-02\n",
      "  3.90697736e-03  5.96395321e-03 -3.02476659e-02  2.63883732e-02\n",
      " -1.69488378e-02  7.39418576e-03  1.60662793e-02 -1.68313961e-02\n",
      " -8.25814065e-03 -1.36965141e-02  7.30697624e-03  1.63453538e-02\n",
      " -4.15407047e-02  1.05633713e-01  1.53325591e-02  6.63023209e-03\n",
      "  3.93279046e-02 -1.27697680e-02 -5.95697621e-03 -8.67441762e-03\n",
      "  1.58593040e-02  9.42093134e-03 -4.15697647e-03  1.34639572e-02\n",
      " -4.10383604e-02 -2.82325619e-03 -2.43790708e-02 -4.02325485e-03\n",
      "  1.65058132e-02  4.21395432e-03  1.25813941e-02  1.64744183e-02\n",
      " -2.81162816e-03  1.34813897e-02 -8.19302350e-03 -7.04767322e-03\n",
      "  1.67139638e-02  1.43581396e-02  1.20023256e-02  4.96162800e-03\n",
      "  1.76325571e-02 -7.07674446e-03 -4.24197726e-02 -2.34697610e-02\n",
      " -1.86058115e-02 -2.32790736e-03  2.98906974e-02  1.53604464e-03\n",
      "  1.95941851e-02 -2.67104693e-02 -1.12453466e-02 -2.54534930e-03\n",
      " -4.29302268e-03  3.56558077e-02 -4.36046888e-04 -8.16406980e-02\n",
      "  5.04779041e-01 -2.18813960e-02  1.15883695e-02  2.14848872e-02\n",
      "  7.80581404e-03  1.55116236e-02 -1.11523261e-02  4.61628864e-04\n",
      "  1.72918607e-02  1.43034859e-02  2.05546506e-02 -8.23488459e-03\n",
      " -3.16290706e-02 -4.83953534e-03 -1.82697661e-02  2.02907110e-03\n",
      " -3.51163093e-04  1.10220918e-02 -8.54755938e-02 -2.68255756e-03\n",
      "  1.83174424e-02  1.91116314e-02 -4.73488262e-03 -8.08255840e-03\n",
      "  1.37906978e-02 -7.76046468e-03 -2.82767452e-02 -2.99069774e-03\n",
      "  1.06569799e-02 -5.99999772e-03  1.11883730e-02  4.28720983e-03\n",
      " -3.12255807e-02 -8.07186142e-02  8.59302282e-03 -8.11744668e-03\n",
      " -5.36279054e-03  1.87046509e-02 -1.10972092e-01 -3.07988375e-02\n",
      "  9.47441999e-03 -1.03662787e-02  1.16337193e-02  3.22093032e-02\n",
      " -2.69790720e-02  2.25430205e-02 -1.49802361e-02 -1.05290683e-02\n",
      " -4.36534919e-02  6.34883530e-04 -2.83197612e-02 -1.37674408e-02\n",
      " -1.50220934e-02  1.30851150e-01 -1.22430259e-02  2.38767453e-02]\n"
     ]
    }
   ],
   "source": [
    "print(vectorized_training['George_Washington']['vector'])"
   ]
  },
  {
   "cell_type": "code",
   "execution_count": 111,
   "metadata": {},
   "outputs": [
    {
     "name": "stdout",
     "output_type": "stream",
     "text": [
      "{'vector': array([-1.45162819e-02, -2.45802402e-02, -4.59302496e-03, -4.09372151e-02,\n",
      "       -4.47662771e-02, -4.18604538e-03, -3.15232435e-03, -1.44802360e-02,\n",
      "       -1.68499984e-02, -3.69651243e-03, -1.16255814e-02,  1.43651171e-02,\n",
      "        2.02674349e-03, -5.88953542e-03, -2.17011590e-02,  1.02302311e-02,\n",
      "       -2.49313917e-02, -5.65232616e-03, -2.25581434e-02,  8.29069968e-03,\n",
      "       -1.44069805e-03,  2.25197673e-02, -6.81395701e-04, -1.37232570e-02,\n",
      "       -1.26674427e-02, -3.35569866e-02,  1.10627888e-02, -2.37208814e-03,\n",
      "       -2.30000000e-02,  7.58616179e-02, -5.03487710e-04, -2.51116175e-02,\n",
      "        9.26511642e-03, -2.52558179e-02, -1.51058156e-02, -9.51627828e-03,\n",
      "        1.17523270e-02,  1.22441910e-03,  1.08139520e-03,  3.39302444e-03,\n",
      "        2.20116391e-03,  1.46860480e-02, -1.43686021e-02,  5.76395402e-03,\n",
      "        1.74162779e-02, -4.76220921e-02, -1.72569733e-02, -1.49988411e-02,\n",
      "       -1.77732538e-02,  1.58907007e-02, -7.23255938e-03,  2.43825577e-02,\n",
      "       -2.73104683e-02, -3.67430188e-02, -1.48802334e-02, -1.34825567e-02,\n",
      "       -3.14348824e-02,  1.95930228e-02, -6.68605033e-04, -9.24302172e-03,\n",
      "        1.56976283e-04, -1.65674444e-02, -1.30372085e-02,  6.16298130e-05,\n",
      "       -3.63139645e-03,  2.74534873e-03, -1.62697677e-02, -4.70697694e-03,\n",
      "        5.48139494e-03,  4.39302297e-03,  4.65523303e-02,  2.29872130e-02,\n",
      "        2.72058025e-02, -5.52790612e-03,  2.19720937e-02, -4.41581383e-02,\n",
      "        1.33255811e-03,  1.20244222e-02,  3.49267460e-02,  3.76593024e-02,\n",
      "        8.65232572e-03, -6.52325572e-03, -1.90407019e-02,  1.03569757e-02,\n",
      "        1.09301973e-03, -6.28488278e-03,  3.98965068e-02, -3.81744131e-02,\n",
      "       -1.35965087e-02,  1.74023230e-02, -1.48686031e-02,  5.78604685e-03,\n",
      "       -8.59186146e-03,  4.74418374e-03,  1.54720917e-02, -6.42325589e-03,\n",
      "       -1.58430226e-02, -2.98779178e-02, -1.54255824e-02,  3.28209326e-02,\n",
      "        2.43825577e-02,  1.32907031e-03,  1.80883706e-02, -2.72825565e-02,\n",
      "        9.28488653e-03, -7.39418622e-03, -7.98023026e-03,  1.84244160e-02,\n",
      "       -9.45350039e-04, -1.16825579e-02,  1.15813862e-03, -2.10464321e-04,\n",
      "       -3.00813979e-03,  4.75407019e-02, -8.32790602e-03,  4.11511678e-03,\n",
      "       -1.25604663e-02,  8.92209262e-03,  7.64534995e-03, -2.65965052e-02,\n",
      "        6.58837147e-03, -1.12011610e-02, -9.68022924e-03,  1.60023291e-02,\n",
      "        1.61629519e-04,  3.20906974e-02, -1.59848798e-02,  1.14162825e-02,\n",
      "       -2.40430199e-02,  5.39906919e-02, -4.80814092e-03,  3.02209193e-03,\n",
      "        5.89418598e-03, -3.94418649e-03, -2.68058274e-02, -8.98256153e-03,\n",
      "       -2.94616278e-02,  3.90697829e-03,  4.68255766e-03,  3.96162830e-03,\n",
      "       -2.68069748e-02, -2.68395394e-02, -9.76740339e-05,  5.67557989e-03,\n",
      "        4.43197712e-02, -1.38953477e-02, -3.69888335e-01,  1.04639539e-02,\n",
      "        1.55372089e-02, -1.35093015e-02, -8.09988379e-02,  2.67802346e-02,\n",
      "        2.21941881e-02, -7.86627829e-03, -1.00313956e-02,  1.52511625e-02,\n",
      "        1.45744160e-01,  4.61395411e-03,  7.26162829e-03,  3.14453505e-02,\n",
      "       -7.95465056e-03, -1.25395320e-02,  6.95348764e-03, -2.48023286e-03,\n",
      "        6.17325725e-03,  1.26546472e-02,  1.03558144e-02, -1.21616265e-02,\n",
      "       -1.27907039e-03, -1.99348871e-02, -9.01860371e-03,  4.25581448e-03,\n",
      "        7.45790750e-02,  1.02186035e-02, -9.93953645e-03,  1.72848776e-02,\n",
      "       -1.03779081e-02,  1.46616297e-02, -3.75465187e-03, -2.26953458e-02,\n",
      "        5.36046689e-04,  6.64511696e-02, -2.53790785e-02,  5.80627881e-02,\n",
      "       -1.42732579e-02,  9.22453254e-02, -1.12825576e-02, -2.51837187e-02,\n",
      "        3.90697736e-03,  5.96395321e-03, -3.02476659e-02,  2.63883732e-02,\n",
      "       -1.69488378e-02,  7.39418576e-03,  1.60662793e-02, -1.68313961e-02,\n",
      "       -8.25814065e-03, -1.36965141e-02,  7.30697624e-03,  1.63453538e-02,\n",
      "       -4.15407047e-02,  1.05633713e-01,  1.53325591e-02,  6.63023209e-03,\n",
      "        3.93279046e-02, -1.27697680e-02, -5.95697621e-03, -8.67441762e-03,\n",
      "        1.58593040e-02,  9.42093134e-03, -4.15697647e-03,  1.34639572e-02,\n",
      "       -4.10383604e-02, -2.82325619e-03, -2.43790708e-02, -4.02325485e-03,\n",
      "        1.65058132e-02,  4.21395432e-03,  1.25813941e-02,  1.64744183e-02,\n",
      "       -2.81162816e-03,  1.34813897e-02, -8.19302350e-03, -7.04767322e-03,\n",
      "        1.67139638e-02,  1.43581396e-02,  1.20023256e-02,  4.96162800e-03,\n",
      "        1.76325571e-02, -7.07674446e-03, -4.24197726e-02, -2.34697610e-02,\n",
      "       -1.86058115e-02, -2.32790736e-03,  2.98906974e-02,  1.53604464e-03,\n",
      "        1.95941851e-02, -2.67104693e-02, -1.12453466e-02, -2.54534930e-03,\n",
      "       -4.29302268e-03,  3.56558077e-02, -4.36046888e-04, -8.16406980e-02,\n",
      "        5.04779041e-01, -2.18813960e-02,  1.15883695e-02,  2.14848872e-02,\n",
      "        7.80581404e-03,  1.55116236e-02, -1.11523261e-02,  4.61628864e-04,\n",
      "        1.72918607e-02,  1.43034859e-02,  2.05546506e-02, -8.23488459e-03,\n",
      "       -3.16290706e-02, -4.83953534e-03, -1.82697661e-02,  2.02907110e-03,\n",
      "       -3.51163093e-04,  1.10220918e-02, -8.54755938e-02, -2.68255756e-03,\n",
      "        1.83174424e-02,  1.91116314e-02, -4.73488262e-03, -8.08255840e-03,\n",
      "        1.37906978e-02, -7.76046468e-03, -2.82767452e-02, -2.99069774e-03,\n",
      "        1.06569799e-02, -5.99999772e-03,  1.11883730e-02,  4.28720983e-03,\n",
      "       -3.12255807e-02, -8.07186142e-02,  8.59302282e-03, -8.11744668e-03,\n",
      "       -5.36279054e-03,  1.87046509e-02, -1.10972092e-01, -3.07988375e-02,\n",
      "        9.47441999e-03, -1.03662787e-02,  1.16337193e-02,  3.22093032e-02,\n",
      "       -2.69790720e-02,  2.25430205e-02, -1.49802361e-02, -1.05290683e-02,\n",
      "       -4.36534919e-02,  6.34883530e-04, -2.83197612e-02, -1.37674408e-02,\n",
      "       -1.50220934e-02,  1.30851150e-01, -1.22430259e-02,  2.38767453e-02],\n",
      "      dtype=float32), 'occupations': ['Q82955', 'Q189290']}\n"
     ]
    }
   ],
   "source": [
    "print(vectorized_training['George_Washington'])"
   ]
  },
  {
   "cell_type": "code",
   "execution_count": 112,
   "metadata": {},
   "outputs": [],
   "source": [
    "# We encode the data\n",
    "\n",
    "import numpy as np\n",
    "\n",
    "inputs = np.array([vectorized_training[article]['vector'] for article in vectorized_training])\n",
    "outputs = np.array([[(1 if occupation in vectorized_training[article]['occupations'] else 0)\n",
    "                    for occupation in occupations ] for article in vectorized_training])"
   ]
  },
  {
   "cell_type": "code",
   "execution_count": 113,
   "metadata": {},
   "outputs": [
    {
     "name": "stdout",
     "output_type": "stream",
     "text": [
      "100\n",
      "{'vector': array([-1.45162819e-02, -2.45802402e-02, -4.59302496e-03, -4.09372151e-02,\n",
      "       -4.47662771e-02, -4.18604538e-03, -3.15232435e-03, -1.44802360e-02,\n",
      "       -1.68499984e-02, -3.69651243e-03, -1.16255814e-02,  1.43651171e-02,\n",
      "        2.02674349e-03, -5.88953542e-03, -2.17011590e-02,  1.02302311e-02,\n",
      "       -2.49313917e-02, -5.65232616e-03, -2.25581434e-02,  8.29069968e-03,\n",
      "       -1.44069805e-03,  2.25197673e-02, -6.81395701e-04, -1.37232570e-02,\n",
      "       -1.26674427e-02, -3.35569866e-02,  1.10627888e-02, -2.37208814e-03,\n",
      "       -2.30000000e-02,  7.58616179e-02, -5.03487710e-04, -2.51116175e-02,\n",
      "        9.26511642e-03, -2.52558179e-02, -1.51058156e-02, -9.51627828e-03,\n",
      "        1.17523270e-02,  1.22441910e-03,  1.08139520e-03,  3.39302444e-03,\n",
      "        2.20116391e-03,  1.46860480e-02, -1.43686021e-02,  5.76395402e-03,\n",
      "        1.74162779e-02, -4.76220921e-02, -1.72569733e-02, -1.49988411e-02,\n",
      "       -1.77732538e-02,  1.58907007e-02, -7.23255938e-03,  2.43825577e-02,\n",
      "       -2.73104683e-02, -3.67430188e-02, -1.48802334e-02, -1.34825567e-02,\n",
      "       -3.14348824e-02,  1.95930228e-02, -6.68605033e-04, -9.24302172e-03,\n",
      "        1.56976283e-04, -1.65674444e-02, -1.30372085e-02,  6.16298130e-05,\n",
      "       -3.63139645e-03,  2.74534873e-03, -1.62697677e-02, -4.70697694e-03,\n",
      "        5.48139494e-03,  4.39302297e-03,  4.65523303e-02,  2.29872130e-02,\n",
      "        2.72058025e-02, -5.52790612e-03,  2.19720937e-02, -4.41581383e-02,\n",
      "        1.33255811e-03,  1.20244222e-02,  3.49267460e-02,  3.76593024e-02,\n",
      "        8.65232572e-03, -6.52325572e-03, -1.90407019e-02,  1.03569757e-02,\n",
      "        1.09301973e-03, -6.28488278e-03,  3.98965068e-02, -3.81744131e-02,\n",
      "       -1.35965087e-02,  1.74023230e-02, -1.48686031e-02,  5.78604685e-03,\n",
      "       -8.59186146e-03,  4.74418374e-03,  1.54720917e-02, -6.42325589e-03,\n",
      "       -1.58430226e-02, -2.98779178e-02, -1.54255824e-02,  3.28209326e-02,\n",
      "        2.43825577e-02,  1.32907031e-03,  1.80883706e-02, -2.72825565e-02,\n",
      "        9.28488653e-03, -7.39418622e-03, -7.98023026e-03,  1.84244160e-02,\n",
      "       -9.45350039e-04, -1.16825579e-02,  1.15813862e-03, -2.10464321e-04,\n",
      "       -3.00813979e-03,  4.75407019e-02, -8.32790602e-03,  4.11511678e-03,\n",
      "       -1.25604663e-02,  8.92209262e-03,  7.64534995e-03, -2.65965052e-02,\n",
      "        6.58837147e-03, -1.12011610e-02, -9.68022924e-03,  1.60023291e-02,\n",
      "        1.61629519e-04,  3.20906974e-02, -1.59848798e-02,  1.14162825e-02,\n",
      "       -2.40430199e-02,  5.39906919e-02, -4.80814092e-03,  3.02209193e-03,\n",
      "        5.89418598e-03, -3.94418649e-03, -2.68058274e-02, -8.98256153e-03,\n",
      "       -2.94616278e-02,  3.90697829e-03,  4.68255766e-03,  3.96162830e-03,\n",
      "       -2.68069748e-02, -2.68395394e-02, -9.76740339e-05,  5.67557989e-03,\n",
      "        4.43197712e-02, -1.38953477e-02, -3.69888335e-01,  1.04639539e-02,\n",
      "        1.55372089e-02, -1.35093015e-02, -8.09988379e-02,  2.67802346e-02,\n",
      "        2.21941881e-02, -7.86627829e-03, -1.00313956e-02,  1.52511625e-02,\n",
      "        1.45744160e-01,  4.61395411e-03,  7.26162829e-03,  3.14453505e-02,\n",
      "       -7.95465056e-03, -1.25395320e-02,  6.95348764e-03, -2.48023286e-03,\n",
      "        6.17325725e-03,  1.26546472e-02,  1.03558144e-02, -1.21616265e-02,\n",
      "       -1.27907039e-03, -1.99348871e-02, -9.01860371e-03,  4.25581448e-03,\n",
      "        7.45790750e-02,  1.02186035e-02, -9.93953645e-03,  1.72848776e-02,\n",
      "       -1.03779081e-02,  1.46616297e-02, -3.75465187e-03, -2.26953458e-02,\n",
      "        5.36046689e-04,  6.64511696e-02, -2.53790785e-02,  5.80627881e-02,\n",
      "       -1.42732579e-02,  9.22453254e-02, -1.12825576e-02, -2.51837187e-02,\n",
      "        3.90697736e-03,  5.96395321e-03, -3.02476659e-02,  2.63883732e-02,\n",
      "       -1.69488378e-02,  7.39418576e-03,  1.60662793e-02, -1.68313961e-02,\n",
      "       -8.25814065e-03, -1.36965141e-02,  7.30697624e-03,  1.63453538e-02,\n",
      "       -4.15407047e-02,  1.05633713e-01,  1.53325591e-02,  6.63023209e-03,\n",
      "        3.93279046e-02, -1.27697680e-02, -5.95697621e-03, -8.67441762e-03,\n",
      "        1.58593040e-02,  9.42093134e-03, -4.15697647e-03,  1.34639572e-02,\n",
      "       -4.10383604e-02, -2.82325619e-03, -2.43790708e-02, -4.02325485e-03,\n",
      "        1.65058132e-02,  4.21395432e-03,  1.25813941e-02,  1.64744183e-02,\n",
      "       -2.81162816e-03,  1.34813897e-02, -8.19302350e-03, -7.04767322e-03,\n",
      "        1.67139638e-02,  1.43581396e-02,  1.20023256e-02,  4.96162800e-03,\n",
      "        1.76325571e-02, -7.07674446e-03, -4.24197726e-02, -2.34697610e-02,\n",
      "       -1.86058115e-02, -2.32790736e-03,  2.98906974e-02,  1.53604464e-03,\n",
      "        1.95941851e-02, -2.67104693e-02, -1.12453466e-02, -2.54534930e-03,\n",
      "       -4.29302268e-03,  3.56558077e-02, -4.36046888e-04, -8.16406980e-02,\n",
      "        5.04779041e-01, -2.18813960e-02,  1.15883695e-02,  2.14848872e-02,\n",
      "        7.80581404e-03,  1.55116236e-02, -1.11523261e-02,  4.61628864e-04,\n",
      "        1.72918607e-02,  1.43034859e-02,  2.05546506e-02, -8.23488459e-03,\n",
      "       -3.16290706e-02, -4.83953534e-03, -1.82697661e-02,  2.02907110e-03,\n",
      "       -3.51163093e-04,  1.10220918e-02, -8.54755938e-02, -2.68255756e-03,\n",
      "        1.83174424e-02,  1.91116314e-02, -4.73488262e-03, -8.08255840e-03,\n",
      "        1.37906978e-02, -7.76046468e-03, -2.82767452e-02, -2.99069774e-03,\n",
      "        1.06569799e-02, -5.99999772e-03,  1.11883730e-02,  4.28720983e-03,\n",
      "       -3.12255807e-02, -8.07186142e-02,  8.59302282e-03, -8.11744668e-03,\n",
      "       -5.36279054e-03,  1.87046509e-02, -1.10972092e-01, -3.07988375e-02,\n",
      "        9.47441999e-03, -1.03662787e-02,  1.16337193e-02,  3.22093032e-02,\n",
      "       -2.69790720e-02,  2.25430205e-02, -1.49802361e-02, -1.05290683e-02,\n",
      "       -4.36534919e-02,  6.34883530e-04, -2.83197612e-02, -1.37674408e-02,\n",
      "       -1.50220934e-02,  1.30851150e-01, -1.22430259e-02,  2.38767453e-02],\n",
      "      dtype=float32), 'occupations': ['Q82955', 'Q189290']}\n"
     ]
    }
   ],
   "source": [
    "print(len(outputs[0]))\n",
    "print(vectorized_training['George_Washington'])"
   ]
  },
  {
   "cell_type": "markdown",
   "metadata": {},
   "source": [
    "> Using keras, define a sequential neural network with two layers. Use categorical_crossentropy as a loss function and softmax as the activation function of the output layer\n",
    "\n",
    "You can look into the documentation here: https://keras.io/getting-started/sequential-model-guide/"
   ]
  },
  {
   "cell_type": "code",
   "execution_count": 114,
   "metadata": {},
   "outputs": [],
   "source": [
    "from tensorflow import keras\n",
    "# from keras.models import Sequential\n",
    "# from keras.layers import Dense\n",
    "## Compile the model here\n",
    "model = keras.models.Sequential([\n",
    "    keras.layers.Dense(200, input_shape=(300,)),\n",
    "    keras.layers.Activation('relu'),\n",
    "    keras.layers.Dense(100),\n",
    "    keras.layers.Activation('softmax'),\n",
    "])\n",
    "model.compile(optimizer='rmsprop',\n",
    "              loss='categorical_crossentropy',\n",
    "              metrics=['accuracy'])"
   ]
  },
  {
   "cell_type": "code",
   "execution_count": 115,
   "metadata": {},
   "outputs": [
    {
     "name": "stdout",
     "output_type": "stream",
     "text": [
      "Epoch 1/1\n",
      "427798/427798 [==============================] - 16s 37us/step - loss: 2.4628 - acc: 0.6528\n"
     ]
    },
    {
     "data": {
      "text/plain": [
       "<tensorflow.python.keras.callbacks.History at 0x12da80b38>"
      ]
     },
     "execution_count": 115,
     "metadata": {},
     "output_type": "execute_result"
    }
   ],
   "source": [
    "## Then train the model on ```inputs``` and ```outputs```\n",
    "model.fit(inputs,outputs)"
   ]
  },
  {
   "cell_type": "markdown",
   "metadata": {},
   "source": [
    "> Complete the function predict: output the list of occupations where the corresponding neuron on the output layer of our model has a value > 0.1"
   ]
  },
  {
   "cell_type": "code",
   "execution_count": 116,
   "metadata": {},
   "outputs": [],
   "source": [
    "def predict(model, article_name, vectorized_dataset):\n",
    "    prediction = []\n",
    "    ## Code here\n",
    "#     print(vectorized_training['Elvis_Presley']['vector'])\n",
    "    result = model.predict(vectorized_dataset[article_name]['vector'].reshape(1,300)).reshape(100,1)\n",
    "    for i in range(0,len(result)):\n",
    "        if result[i] > 0.1:\n",
    "            prediction.append(occupations[i])\n",
    "    return prediction\n",
    "\n",
    "# print(predict(model, 'Elvis_Presley', vectorized_training))\n",
    "# # should be {'Q177220'}\n",
    "# print(inputs[:1].shape)\n",
    "# result = model.predict(vectorized_training['George_Washington']['vector'].reshape(1,300)).reshape(100,1)\n",
    "# # print((result>0.1).*)\n",
    "# for i in range(0,len(result)):\n",
    "#     if result[i] > 0.1:\n",
    "#         print(occupations[i])\n",
    "# print(result.shape)\n",
    "# print(occupations)\n",
    "# print(vectorized_training['George_Washington']['occupations'])"
   ]
  },
  {
   "cell_type": "code",
   "execution_count": 117,
   "metadata": {},
   "outputs": [
    {
     "name": "stdout",
     "output_type": "stream",
     "text": [
      "(300,)\n"
     ]
    }
   ],
   "source": [
    "print(vectorized_training['Elvis_Presley']['vector'].shape)\n",
    "# model.predict(vectorized_training['Elvis_Presley']['vector'])"
   ]
  },
  {
   "cell_type": "code",
   "execution_count": 118,
   "metadata": {},
   "outputs": [
    {
     "data": {
      "text/plain": [
       "0.5933197136122408"
      ]
     },
     "execution_count": 118,
     "metadata": {},
     "output_type": "execute_result"
    }
   ],
   "source": [
    "def evaluate_nn(vectorized_training, model):\n",
    "    nexample = 0\n",
    "    accuracy = 0.\n",
    "    prediction = None\n",
    "    for article_name in vectorized_training:\n",
    "        prediction = predict(model, article_name, vectorized_training)\n",
    "        p = frozenset(prediction)\n",
    "        g = frozenset(vectorized_training[article_name]['occupations'])\n",
    "        accuracy += 1.*len(p & g) / len(p | g)\n",
    "        nexample += 1\n",
    "    return accuracy / nexample\n",
    "evaluate_nn(vectorized_training, model)"
   ]
  },
  {
   "cell_type": "markdown",
   "metadata": {},
   "source": [
    "## Task 3 - Your approach\n",
    "\n",
    "> Propose your own approach (extend previous examples or use original approaches) to improve the accuracy for this task. Apply it to the testing set and put the result as a json file with your submission."
   ]
  },
  {
   "cell_type": "code",
   "execution_count": 119,
   "metadata": {},
   "outputs": [],
   "source": [
    "from tensorflow import keras\n",
    "# from keras.models import Sequential\n",
    "# from keras.layers import Dense\n",
    "## Compile the model here\n",
    "model = keras.models.Sequential([\n",
    "    keras.layers.Dense(280, input_shape=(300,)),\n",
    "    keras.layers.Activation('relu'),\n",
    "    keras.layers.Dense(100),\n",
    "    keras.layers.Activation('softmax'),\n",
    "])\n",
    "model.compile(optimizer='rmsprop',\n",
    "              loss='categorical_crossentropy',\n",
    "              metrics=['accuracy'])"
   ]
  },
  {
   "cell_type": "code",
   "execution_count": 120,
   "metadata": {},
   "outputs": [
    {
     "name": "stdout",
     "output_type": "stream",
     "text": [
      "Epoch 1/1\n",
      "427798/427798 [==============================] - 18s 42us/step - loss: 2.4030 - acc: 0.6614\n"
     ]
    },
    {
     "data": {
      "text/plain": [
       "<tensorflow.python.keras.callbacks.History at 0x110c45c18>"
      ]
     },
     "execution_count": 120,
     "metadata": {},
     "output_type": "execute_result"
    }
   ],
   "source": [
    "model.fit(inputs,outputs)"
   ]
  },
  {
   "cell_type": "code",
   "execution_count": 125,
   "metadata": {},
   "outputs": [],
   "source": [
    "def predict(model, article_name, vectorized_dataset):\n",
    "    prediction = []\n",
    "    ## Code here\n",
    "#     print(vectorized_training['Elvis_Presley']['vector'])\n",
    "    result = model.predict(vectorized_dataset[article_name]['vector'].reshape(1,300)).reshape(100,1)\n",
    "    for i in range(0,len(result)):\n",
    "        if result[i] > 0.2:\n",
    "            prediction.append(occupations[i])\n",
    "    return prediction"
   ]
  },
  {
   "cell_type": "code",
   "execution_count": 126,
   "metadata": {},
   "outputs": [
    {
     "data": {
      "text/plain": [
       "0.6452663868286385"
      ]
     },
     "execution_count": 126,
     "metadata": {},
     "output_type": "execute_result"
    }
   ],
   "source": [
    "def evaluate_nn(vectorized_training, model):\n",
    "    nexample = 0\n",
    "    accuracy = 0.\n",
    "    prediction = None\n",
    "    for article_name in vectorized_training:\n",
    "        prediction = predict(model, article_name, vectorized_training)\n",
    "        p = frozenset(prediction)\n",
    "        g = frozenset(vectorized_training[article_name]['occupations'])\n",
    "        accuracy += 1.*len(p & g) / len(p | g)\n",
    "        nexample += 1\n",
    "    return accuracy / nexample\n",
    "evaluate_nn(vectorized_training, model)"
   ]
  },
  {
   "cell_type": "code",
   "execution_count": 127,
   "metadata": {},
   "outputs": [],
   "source": [
    "import spacy\n",
    "nlp = spacy.load('/tmp/en_vectors_wiki_lg')\n",
    "training_set_copy = training_set\n",
    "def vectorize(dataset, nlp):\n",
    "    result = {}\n",
    "    for example in dataset:\n",
    "        doc = nlp(example['summary'], disable=['parser', 'tagger'])\n",
    "        result[example['title']] = {}\n",
    "        result[example['title']]['vector'] = doc.vector\n",
    "        if 'occupations' in example:\n",
    "            result[example['title']]['occupations'] = example['occupations']\n",
    "    return result"
   ]
  },
  {
   "cell_type": "code",
   "execution_count": 128,
   "metadata": {},
   "outputs": [],
   "source": [
    "nlp = spacy.load('/tmp/en_vectors_wiki_lg')"
   ]
  },
  {
   "cell_type": "code",
   "execution_count": 129,
   "metadata": {},
   "outputs": [],
   "source": [
    "import spacy\n",
    "import nltk\n",
    "training_set_copy = training_set\n",
    "def vectorize1(dataset, nlp):\n",
    "    result = {}\n",
    "    for example in training_set_copy:\n",
    "    #     print(example)\n",
    "        summary = example['summary']\n",
    "        new_sentence = \"\"\n",
    "        tokens = nltk.word_tokenize(summary)\n",
    "        t = nltk.pos_tag(tokens)\n",
    "    #     print(t)\n",
    "        for i in t:\n",
    "            if i[1] in [\"NN\",\"NNS\",\"NNP\",\"NNPS\"]:\n",
    "                new_sentence += i[0]\n",
    "                new_sentence += \" \"\n",
    "        example['summary'] = new_sentence\n",
    "        doc = nlp(example['summary'], disable=['parser', 'tagger'])\n",
    "        result[example['title']] = {}\n",
    "        result[example['title']]['vector'] = doc.vector\n",
    "        if 'occupations' in example:\n",
    "            result[example['title']]['occupations'] = example['occupations']\n",
    "    return result\n",
    "vectorized_training1 = vectorize1(training_set_copy, nlp)"
   ]
  },
  {
   "cell_type": "code",
   "execution_count": 130,
   "metadata": {},
   "outputs": [],
   "source": [
    "import numpy as np\n",
    "\n",
    "inputs1 = np.array([vectorized_training1[article]['vector'] for article in vectorized_training1])\n",
    "outputs1 = np.array([[(1 if occupation in vectorized_training1[article]['occupations'] else 0)\n",
    "                    for occupation in occupations ] for article in vectorized_training1])"
   ]
  },
  {
   "cell_type": "code",
   "execution_count": 131,
   "metadata": {},
   "outputs": [],
   "source": [
    "from tensorflow import keras\n",
    "# from keras.models import Sequential\n",
    "# from keras.layers import Dense\n",
    "## Compile the model here\n",
    "model1 = keras.models.Sequential([\n",
    "    keras.layers.Dense(200, input_shape=(300,)),\n",
    "    keras.layers.Activation('relu'),\n",
    "    keras.layers.Dense(100),\n",
    "    keras.layers.Activation('softmax'),\n",
    "])\n",
    "model1.compile(optimizer='rmsprop',\n",
    "              loss='categorical_crossentropy',\n",
    "              metrics=['accuracy'])"
   ]
  },
  {
   "cell_type": "code",
   "execution_count": 132,
   "metadata": {},
   "outputs": [
    {
     "name": "stdout",
     "output_type": "stream",
     "text": [
      "Epoch 1/1\n",
      "427798/427798 [==============================] - 15s 36us/step - loss: 2.2278 - acc: 0.6914\n"
     ]
    },
    {
     "data": {
      "text/plain": [
       "<tensorflow.python.keras.callbacks.History at 0x117249c18>"
      ]
     },
     "execution_count": 132,
     "metadata": {},
     "output_type": "execute_result"
    }
   ],
   "source": [
    "model1.fit(inputs1,outputs1)"
   ]
  },
  {
   "cell_type": "code",
   "execution_count": 137,
   "metadata": {},
   "outputs": [],
   "source": [
    "def predict(model, article_name, vectorized_dataset):\n",
    "    prediction = []\n",
    "    ## Code here\n",
    "#     print(vectorized_training['Elvis_Presley']['vector'])\n",
    "    result = model.predict(vectorized_dataset[article_name]['vector'].reshape(1,300)).reshape(100,1)\n",
    "    for i in range(0,len(result)):\n",
    "        if result[i] > 0.25:\n",
    "            prediction.append(occupations[i])\n",
    "    return prediction"
   ]
  },
  {
   "cell_type": "code",
   "execution_count": 138,
   "metadata": {},
   "outputs": [
    {
     "data": {
      "text/plain": [
       "0.6624109967474497"
      ]
     },
     "execution_count": 138,
     "metadata": {},
     "output_type": "execute_result"
    }
   ],
   "source": [
    "def evaluate_nn(vectorized_training, model):\n",
    "    nexample = 0\n",
    "    accuracy = 0.\n",
    "    prediction = None\n",
    "    for article_name in vectorized_training:\n",
    "        prediction = predict(model, article_name, vectorized_training)\n",
    "        p = frozenset(prediction)\n",
    "        g = frozenset(vectorized_training[article_name]['occupations'])\n",
    "        accuracy += 1.*len(p & g) / len(p | g)\n",
    "        nexample += 1\n",
    "    return accuracy / nexample\n",
    "evaluate_nn(vectorized_training1, model1)"
   ]
  },
  {
   "cell_type": "markdown",
   "metadata": {},
   "source": [
    "***IMPORTANT*** Output format of requested file 'results.json.gz': each line must be a json string representing a dictionnary:\n",
    "> ```{ 'title': THE_ARTICLE_NAME, 'prediction': [THE_LIST_OF_OCCUPATIONS]}```"
   ]
  },
  {
   "cell_type": "code",
   "execution_count": 14,
   "metadata": {},
   "outputs": [],
   "source": [
    "# For example if testset_solutions is a dictionnary: article_name (key) -> prediction_list (value) use this function:\n",
    "def export(testset_solutions):\n",
    "    with gzip.open('results.json.gz', 'wt') as output:\n",
    "        for article in testset_solutions:\n",
    "            output.write(json.dumps({'title':article, 'prediction':testset_solutions[article]}) + \"\\n\")"
   ]
  }
 ],
 "metadata": {
  "kernelspec": {
   "display_name": "Python 3",
   "language": "python",
   "name": "python3"
  },
  "language_info": {
   "codemirror_mode": {
    "name": "ipython",
    "version": 3
   },
   "file_extension": ".py",
   "mimetype": "text/x-python",
   "name": "python",
   "nbconvert_exporter": "python",
   "pygments_lexer": "ipython3",
   "version": "3.6.5"
  }
 },
 "nbformat": 4,
 "nbformat_minor": 2
}
